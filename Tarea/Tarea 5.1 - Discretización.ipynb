{
  "cells": [
    {
      "cell_type": "code",
      "execution_count": 1,
      "metadata": {
        "id": "-_pi5cta0qbs"
      },
      "outputs": [],
      "source": [
        "import numpy as np\n",
        "import matplotlib.pyplot as plt\n",
        "import pandas as pd"
      ]
    },
    {
      "cell_type": "markdown",
      "metadata": {
        "id": "bgJdKur7PvWW"
      },
      "source": [
        "* Leer la base de datos `edades.csv`"
      ]
    },
    {
      "cell_type": "code",
      "execution_count": 2,
      "metadata": {
        "id": "q00d1MWkQPqr"
      },
      "outputs": [],
      "source": [
        "df = pd.read_csv('edades.csv')"
      ]
    },
    {
      "cell_type": "markdown",
      "metadata": {
        "id": "YTthPvzaQQec"
      },
      "source": [
        "* Discretizar los datos en 10 intervalos iguales. ¿Cuántas personas forman parte de cada intervalo? ¿Cuál es este intervalo?"
      ]
    },
    {
      "cell_type": "code",
      "execution_count": null,
      "metadata": {},
      "outputs": [],
      "source": [
        "df['bin_equal'] = pd.cut(df['edades'], bins=10, include_lowest=True)"
      ]
    },
    {
      "cell_type": "code",
      "execution_count": 5,
      "metadata": {},
      "outputs": [
        {
          "data": {
            "text/plain": [
              "bin_equal\n",
              "(-0.10200000000000001, 10.1]    44\n",
              "(10.1, 20.2]                    99\n",
              "(20.2, 30.3]                    53\n",
              "(30.3, 40.4]                    14\n",
              "(40.4, 50.5]                    10\n",
              "(50.5, 60.6]                     8\n",
              "(60.6, 70.7]                     3\n",
              "(70.7, 80.8]                     1\n",
              "(80.8, 90.9]                     2\n",
              "(90.9, 101.0]                    2\n",
              "Name: count, dtype: int64"
            ]
          },
          "execution_count": 5,
          "metadata": {},
          "output_type": "execute_result"
        }
      ],
      "source": [
        "counts_equal = df['bin_equal'].value_counts().sort_index()\n",
        "counts_equal"
      ]
    },
    {
      "cell_type": "code",
      "execution_count": 6,
      "metadata": {},
      "outputs": [
        {
          "name": "stdout",
          "output_type": "stream",
          "text": [
            "\n",
            "Cada intervalo mide: 10.10 unidades de edad\n",
            "Los bordes exactos de los intervalos son:\n"
          ]
        },
        {
          "data": {
            "text/plain": [
              "CategoricalIndex([(-0.10200000000000001, 10.1],                 (10.1, 20.2],\n",
              "                                  (20.2, 30.3],                 (30.3, 40.4],\n",
              "                                  (40.4, 50.5],                 (50.5, 60.6],\n",
              "                                  (60.6, 70.7],                 (70.7, 80.8],\n",
              "                                  (80.8, 90.9],                (90.9, 101.0]],\n",
              "                 categories=[(-0.10200000000000001, 10.1], (10.1, 20.2], (20.2, 30.3], (30.3, 40.4], ..., (60.6, 70.7], (70.7, 80.8], (80.8, 90.9], (90.9, 101.0]], ordered=True, dtype='category', name='bin_equal')"
            ]
          },
          "execution_count": 6,
          "metadata": {},
          "output_type": "execute_result"
        }
      ],
      "source": [
        "min_age = df['edades'].min()\n",
        "max_age = df['edades'].max()\n",
        "interval_width = (max_age - min_age) / 10\n",
        "print(f\"\\nCada intervalo mide: {interval_width:.2f} unidades de edad\")\n",
        "print(\"Los bordes exactos de los intervalos son:\")\n",
        "counts_equal.index"
      ]
    },
    {
      "cell_type": "markdown",
      "metadata": {
        "id": "yFt6hOq3QiG6"
      },
      "source": [
        "* Discretizar los datos en edades de 10 en 10. ¿Cuántas personas forman parte de cada intervalo?"
      ]
    },
    {
      "cell_type": "code",
      "execution_count": 10,
      "metadata": {
        "id": "rwpbpd3wQxPz"
      },
      "outputs": [
        {
          "name": "stdout",
          "output_type": "stream",
          "text": [
            "\n",
            "Conteo por intervalos de 10 años:\n"
          ]
        },
        {
          "data": {
            "text/plain": [
              "bin_10yrs\n",
              "[0, 10)       39\n",
              "[10, 20)      97\n",
              "[20, 30)      58\n",
              "[30, 40)      16\n",
              "[40, 50)      10\n",
              "[50, 60)       8\n",
              "[60, 70)       3\n",
              "[70, 80)       1\n",
              "[80, 90)       2\n",
              "[90, 100)      1\n",
              "[100, 110)     1\n",
              "Name: count, dtype: int64"
            ]
          },
          "execution_count": 10,
          "metadata": {},
          "output_type": "execute_result"
        }
      ],
      "source": [
        "start = (min_age // 10) * 10\n",
        "end   = ((max_age // 10) + 1) * 10\n",
        "bins_10 = np.arange(start, end + 1, 10)\n",
        "\n",
        "df['bin_10yrs'] = pd.cut(df['edades'], bins=bins_10, right=False, include_lowest=True)\n",
        "counts_10yrs = df['bin_10yrs'].value_counts().sort_index()\n",
        "print(\"\\nConteo por intervalos de 10 años:\")\n",
        "counts_10yrs"
      ]
    },
    {
      "cell_type": "markdown",
      "metadata": {
        "id": "pV4biuI8Qx1x"
      },
      "source": [
        "* Discretizar los datos y nombrar los intervalos de acuerdo a la siguiente tabla:\n",
        "\n",
        "Nombre del rango|Rango\n",
        "------------------|:--------:\n",
        "bebé|0-2\n",
        "niño|3-11\n",
        "adolecente|12-17\n",
        "joven|18-25\n",
        "adulto joven|26-39\n",
        "adulto maduro|40-59\n",
        "adulto mayor |60 en adelante\n",
        "\n",
        "Para nombrar los intervalos use el argumento `labels` de la función `cut`"
      ]
    },
    {
      "cell_type": "code",
      "execution_count": 15,
      "metadata": {
        "id": "toTfZllTSo9W"
      },
      "outputs": [],
      "source": [
        "bins = [0, 2, 11, 17, 25, 39, 59, df['edades'].max()]\n",
        "labels = [\n",
        "    'bebé',\n",
        "    'niño',\n",
        "    'adolescente',\n",
        "    'joven',\n",
        "    'adulto joven',\n",
        "    'adulto maduro',\n",
        "    'adulto mayor'\n",
        "]\n",
        "\n",
        "df['grupo_edad'] = pd.cut(\n",
        "    df['edades'],\n",
        "    bins=bins,\n",
        "    labels=labels,\n",
        "    include_lowest=True,  # para que el 0 quede incluido en 'bebé'\n",
        "    right=True           # intervalo tipo (a, b], (2,11] -> 3–11\n",
        ")\n"
      ]
    },
    {
      "cell_type": "markdown",
      "metadata": {
        "id": "VYawvL3vSqTb"
      },
      "source": [
        "* Mostrar un histograma de esta última discretización (¿Cuántas personas forman parte de cada grupo?)."
      ]
    },
    {
      "cell_type": "code",
      "execution_count": 13,
      "metadata": {},
      "outputs": [
        {
          "data": {
            "text/plain": [
              "grupo_edad\n",
              "bebé             16\n",
              "niño             28\n",
              "adolescente      66\n",
              "joven            71\n",
              "adulto joven     29\n",
              "adulto maduro    18\n",
              "adulto mayor      8\n",
              "Name: count, dtype: int64"
            ]
          },
          "execution_count": 13,
          "metadata": {},
          "output_type": "execute_result"
        }
      ],
      "source": [
        "counts = df['grupo_edad'].value_counts().reindex(labels)\n",
        "counts"
      ]
    },
    {
      "cell_type": "code",
      "execution_count": 14,
      "metadata": {
        "id": "yioeZca8S1qf"
      },
      "outputs": [
        {
          "data": {
            "image/png": "[encoded data removed]",
            "text/plain": [
              "<Figure size 800x500 with 1 Axes>"
            ]
          },
          "metadata": {},
          "output_type": "display_data"
        }
      ],
      "source": [
        "plt.figure(figsize=(8,5))\n",
        "counts.plot(kind='bar')\n",
        "plt.xlabel('Grupo de edad')\n",
        "plt.ylabel('Número de personas')\n",
        "plt.title('Distribución de grupos de edad')\n",
        "plt.xticks(rotation=45)\n",
        "plt.tight_layout()\n",
        "plt.show()"
      ]
    }
  ],
  "metadata": {
    "colab": {
      "provenance": []
    },
    "kernelspec": {
      "display_name": "base",
      "language": "python",
      "name": "python3"
    },
    "language_info": {
      "codemirror_mode": {
        "name": "ipython",
        "version": 3
      },
      "file_extension": ".py",
      "mimetype": "text/x-python",
      "name": "python",
      "nbconvert_exporter": "python",
      "pygments_lexer": "ipython3",
      "version": "3.12.4"
    }
  },
  "nbformat": 4,
  "nbformat_minor": 0
}
