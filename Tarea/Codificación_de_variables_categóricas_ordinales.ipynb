{
 "cells": [
  {
   "cell_type": "markdown",
   "metadata": {
    "id": "otaAKUovDeW4"
   },
   "source": [
    "# Codificación de variables categóricas ordinales\n",
    "\n",
    "En el conjunto de datos `datos_20.csv` existen datos  por localidad de grados académicos (`Grado`), población total (`POBTOT_BC`) y promedio de hijos nacidos vivos (`PROM_HNV_BC`); censados en el 2020.\n",
    "\n",
    "Codificaremos la variable categórica y encontraremos un modelo lineal entre las variables `Grado` y `POBTOT_BC` con `PROM_HNV_BC`, veremos si la precisión del modelo varía con diferentes formas de codificar y si existe una correlación entre estas variables."
   ]
  },
  {
   "cell_type": "markdown",
   "metadata": {
    "id": "-nwi9csFDJcc"
   },
   "source": [
    "1. Importe los datos del archivo `datos_20.csv`"
   ]
  },
  {
   "cell_type": "code",
   "execution_count": 41,
   "metadata": {
    "id": "YLikvImuG-jx"
   },
   "outputs": [],
   "source": [
    "import pandas as pd\n",
    "import matplotlib.pyplot as plt\n",
    "import numpy as np\n",
    "from sklearn.linear_model import LinearRegression"
   ]
  },
  {
   "cell_type": "code",
   "execution_count": 42,
   "metadata": {},
   "outputs": [
    {
     "data": {
      "text/html": [
       "<div>\n",
       "<style scoped>\n",
       "    .dataframe tbody tr th:only-of-type {\n",
       "        vertical-align: middle;\n",
       "    }\n",
       "\n",
       "    .dataframe tbody tr th {\n",
       "        vertical-align: top;\n",
       "    }\n",
       "\n",
       "    .dataframe thead th {\n",
       "        text-align: right;\n",
       "    }\n",
       "</style>\n",
       "<table border=\"1\" class=\"dataframe\">\n",
       "  <thead>\n",
       "    <tr style=\"text-align: right;\">\n",
       "      <th></th>\n",
       "      <th>Grado</th>\n",
       "      <th>POBTOT_BC</th>\n",
       "      <th>PROM_HNV_BC</th>\n",
       "    </tr>\n",
       "  </thead>\n",
       "  <tbody>\n",
       "    <tr>\n",
       "      <th>0</th>\n",
       "      <td>Primaria</td>\n",
       "      <td>3.173729</td>\n",
       "      <td>1.154342</td>\n",
       "    </tr>\n",
       "    <tr>\n",
       "      <th>1</th>\n",
       "      <td>Primaria</td>\n",
       "      <td>5.278282</td>\n",
       "      <td>1.302897</td>\n",
       "    </tr>\n",
       "    <tr>\n",
       "      <th>2</th>\n",
       "      <td>Primaria</td>\n",
       "      <td>3.173729</td>\n",
       "      <td>1.759130</td>\n",
       "    </tr>\n",
       "    <tr>\n",
       "      <th>3</th>\n",
       "      <td>Primaria</td>\n",
       "      <td>5.221993</td>\n",
       "      <td>1.388040</td>\n",
       "    </tr>\n",
       "    <tr>\n",
       "      <th>4</th>\n",
       "      <td>Primaria</td>\n",
       "      <td>4.219874</td>\n",
       "      <td>1.420656</td>\n",
       "    </tr>\n",
       "  </tbody>\n",
       "</table>\n",
       "</div>"
      ],
      "text/plain": [
       "      Grado  POBTOT_BC  PROM_HNV_BC\n",
       "0  Primaria   3.173729     1.154342\n",
       "1  Primaria   5.278282     1.302897\n",
       "2  Primaria   3.173729     1.759130\n",
       "3  Primaria   5.221993     1.388040\n",
       "4  Primaria   4.219874     1.420656"
      ]
     },
     "execution_count": 42,
     "metadata": {},
     "output_type": "execute_result"
    }
   ],
   "source": [
    "df = pd.read_csv('datos_20.csv')\n",
    "df.head()"
   ]
  },
  {
   "cell_type": "markdown",
   "metadata": {
    "id": "psMie5JyG_eh"
   },
   "source": [
    "2. Codifique la variable `Grado` usando contraste polinómico lineal"
   ]
  },
  {
   "cell_type": "code",
   "execution_count": 43,
   "metadata": {
    "id": "G4E_-3AQHXXP"
   },
   "outputs": [
    {
     "data": {
      "text/plain": [
       "array(['Primaria', 'Secundaria', 'Primaria trunca', 'Preparatoria',\n",
       "       'Licenciatura o superior', 'Sin escolaridad'], dtype=object)"
      ]
     },
     "execution_count": 43,
     "metadata": {},
     "output_type": "execute_result"
    }
   ],
   "source": [
    "df['Grado'].unique()"
   ]
  },
  {
   "cell_type": "code",
   "execution_count": 44,
   "metadata": {
    "id": "I_tONp6AIUjP"
   },
   "outputs": [
    {
     "data": {
      "text/plain": [
       "[-5, -3, -1, 1, 3, 5]"
      ]
     },
     "execution_count": 44,
     "metadata": {},
     "output_type": "execute_result"
    }
   ],
   "source": [
    "grados_ordenados = ['Sin escolaridad', 'Primaria trunca', 'Primaria', 'Secundaria', 'Preparatoria', 'Licenciatura o superior']\n",
    "n = df['Grado'].nunique()\n",
    "lim = n-1 if n%2==0 else (n-1)//2\n",
    "step = 2 if n%2==0 else 1\n",
    "X=range(-lim,lim+1,step)\n",
    "list(X)"
   ]
  },
  {
   "cell_type": "code",
   "execution_count": 45,
   "metadata": {},
   "outputs": [
    {
     "data": {
      "text/plain": [
       "[-5, -3, -1, 1, 3, 5]"
      ]
     },
     "execution_count": 45,
     "metadata": {},
     "output_type": "execute_result"
    }
   ],
   "source": [
    "a0 = 0\n",
    "a1 = 1\n",
    "Y=[a0+a1*x for x in X]\n",
    "Y"
   ]
  },
  {
   "cell_type": "code",
   "execution_count": 46,
   "metadata": {},
   "outputs": [
    {
     "data": {
      "text/plain": [
       "{'Sin escolaridad': -5,\n",
       " 'Primaria trunca': -3,\n",
       " 'Primaria': -1,\n",
       " 'Secundaria': 1,\n",
       " 'Preparatoria': 3,\n",
       " 'Licenciatura o superior': 5}"
      ]
     },
     "execution_count": 46,
     "metadata": {},
     "output_type": "execute_result"
    }
   ],
   "source": [
    "grados_cod = {categoria:y for categoria,y in zip(grados_ordenados,Y)}\n",
    "grados_cod"
   ]
  },
  {
   "cell_type": "code",
   "execution_count": 47,
   "metadata": {},
   "outputs": [
    {
     "data": {
      "text/html": [
       "<div>\n",
       "<style scoped>\n",
       "    .dataframe tbody tr th:only-of-type {\n",
       "        vertical-align: middle;\n",
       "    }\n",
       "\n",
       "    .dataframe tbody tr th {\n",
       "        vertical-align: top;\n",
       "    }\n",
       "\n",
       "    .dataframe thead th {\n",
       "        text-align: right;\n",
       "    }\n",
       "</style>\n",
       "<table border=\"1\" class=\"dataframe\">\n",
       "  <thead>\n",
       "    <tr style=\"text-align: right;\">\n",
       "      <th></th>\n",
       "      <th>Grado</th>\n",
       "      <th>POBTOT_BC</th>\n",
       "      <th>PROM_HNV_BC</th>\n",
       "      <th>grados_cod</th>\n",
       "    </tr>\n",
       "  </thead>\n",
       "  <tbody>\n",
       "    <tr>\n",
       "      <th>0</th>\n",
       "      <td>Primaria</td>\n",
       "      <td>3.173729</td>\n",
       "      <td>1.154342</td>\n",
       "      <td>-1</td>\n",
       "    </tr>\n",
       "    <tr>\n",
       "      <th>1</th>\n",
       "      <td>Primaria</td>\n",
       "      <td>5.278282</td>\n",
       "      <td>1.302897</td>\n",
       "      <td>-1</td>\n",
       "    </tr>\n",
       "    <tr>\n",
       "      <th>2</th>\n",
       "      <td>Primaria</td>\n",
       "      <td>3.173729</td>\n",
       "      <td>1.759130</td>\n",
       "      <td>-1</td>\n",
       "    </tr>\n",
       "    <tr>\n",
       "      <th>3</th>\n",
       "      <td>Primaria</td>\n",
       "      <td>5.221993</td>\n",
       "      <td>1.388040</td>\n",
       "      <td>-1</td>\n",
       "    </tr>\n",
       "    <tr>\n",
       "      <th>4</th>\n",
       "      <td>Primaria</td>\n",
       "      <td>4.219874</td>\n",
       "      <td>1.420656</td>\n",
       "      <td>-1</td>\n",
       "    </tr>\n",
       "  </tbody>\n",
       "</table>\n",
       "</div>"
      ],
      "text/plain": [
       "      Grado  POBTOT_BC  PROM_HNV_BC  grados_cod\n",
       "0  Primaria   3.173729     1.154342          -1\n",
       "1  Primaria   5.278282     1.302897          -1\n",
       "2  Primaria   3.173729     1.759130          -1\n",
       "3  Primaria   5.221993     1.388040          -1\n",
       "4  Primaria   4.219874     1.420656          -1"
      ]
     },
     "execution_count": 47,
     "metadata": {},
     "output_type": "execute_result"
    }
   ],
   "source": [
    "df['grados_cod']=df['Grado'].map(grados_cod)\n",
    "df.head()"
   ]
  },
  {
   "cell_type": "markdown",
   "metadata": {
    "id": "ka2mSqUVHYL7"
   },
   "source": [
    "3. Obtenga una relación lineal usando la clase `LinearRegression` del paquete `sklearn.linear_model`, para la codificacón obtenida y la variable `PBTOT_BC` como variables independientes y la variable `PROM_HNV_BC` como variable dependiente. Posteriormente, grafique y mida la correlación."
   ]
  },
  {
   "cell_type": "code",
   "execution_count": 48,
   "metadata": {},
   "outputs": [
    {
     "data": {
      "text/plain": [
       "0.13878507295191256"
      ]
     },
     "execution_count": 48,
     "metadata": {},
     "output_type": "execute_result"
    }
   ],
   "source": [
    "regresion_lin = LinearRegression()\n",
    "regresion_lin.fit(df[['POBTOT_BC', 'grados_cod']],df['PROM_HNV_BC'])\n",
    "regresion_lin.score(df[['POBTOT_BC', 'grados_cod']],df['PROM_HNV_BC'])"
   ]
  },
  {
   "cell_type": "code",
   "execution_count": 49,
   "metadata": {},
   "outputs": [
    {
     "data": {
      "image/png": "[encoded data removed]",
      "text/plain": [
       "<Figure size 640x480 with 1 Axes>"
      ]
     },
     "metadata": {},
     "output_type": "display_data"
    }
   ],
   "source": [
    "plt.scatter(df['grados_cod'], df['PROM_HNV_BC'], label='Datos')\n",
    "plt.scatter(df['grados_cod'], regresion_lin.predict(df[['POBTOT_BC', 'grados_cod']]), label='Regresión lineal', color='red')\n",
    "plt.legend()\n",
    "plt.xlabel('Nivel educativo (Codificado)')\n",
    "plt.ylabel('Promedio HNV BC')\n",
    "plt.grid(True)\n",
    "plt.title('Relación entre nivel educativo y promedio HNV BC')\n",
    "plt.show()"
   ]
  },
  {
   "cell_type": "markdown",
   "metadata": {
    "id": "2gtqo3a5IV1Z"
   },
   "source": [
    "4. Codifique de nuevo la variable `Grado` usando contrate polinómico cuadrático con una parábola cóncava."
   ]
  },
  {
   "cell_type": "code",
   "execution_count": 50,
   "metadata": {
    "id": "S9Nr6m4UI7SX"
   },
   "outputs": [
    {
     "data": {
      "text/plain": [
       "[-5, -3, -1, 1, 3, 5]"
      ]
     },
     "execution_count": 50,
     "metadata": {},
     "output_type": "execute_result"
    }
   ],
   "source": [
    "n = len(grados_ordenados)\n",
    "lim = n-1 if n%2==0 else (n-1)//2\n",
    "step = 2 if n%2==0 else 1\n",
    "X = range(-lim,lim+1,step)\n",
    "list(X)"
   ]
  },
  {
   "cell_type": "code",
   "execution_count": 51,
   "metadata": {
    "id": "3UwfWaexJ5y0"
   },
   "outputs": [
    {
     "data": {
      "text/plain": [
       "[12.833333333333334,\n",
       " -2.966666666666667,\n",
       " -10.766666666666666,\n",
       " -10.566666666666666,\n",
       " -2.3666666666666654,\n",
       " 13.833333333333334]"
      ]
     },
     "execution_count": 51,
     "metadata": {},
     "output_type": "execute_result"
    }
   ],
   "source": [
    "a2 = 1\n",
    "a1 = 0.1\n",
    "a0 = -a2*np.sum([x**2 for x in X])/n\n",
    "Y=[a0+a1*x+a2*x**2 for x in X]\n",
    "Y"
   ]
  },
  {
   "cell_type": "code",
   "execution_count": 52,
   "metadata": {},
   "outputs": [
    {
     "data": {
      "image/png": "[encoded data removed]",
      "text/plain": [
       "<Figure size 640x480 with 1 Axes>"
      ]
     },
     "metadata": {},
     "output_type": "display_data"
    }
   ],
   "source": [
    "plt.scatter(X,Y)\n",
    "plt.grid()"
   ]
  },
  {
   "cell_type": "markdown",
   "metadata": {
    "id": "0r3ab7D1I7u3"
   },
   "source": [
    "5. Obtenga de nuevo una regresión lineal incluyendo ahora la codificación cuadrática, es decir, las variables independientes serán `POBTOT_BC`, la codificación lineal y la codificación cuadrática. Grafique y mida la correlación, ¿Mejoró la correlación?"
   ]
  },
  {
   "cell_type": "code",
   "execution_count": 53,
   "metadata": {},
   "outputs": [
    {
     "data": {
      "text/html": [
       "<div>\n",
       "<style scoped>\n",
       "    .dataframe tbody tr th:only-of-type {\n",
       "        vertical-align: middle;\n",
       "    }\n",
       "\n",
       "    .dataframe tbody tr th {\n",
       "        vertical-align: top;\n",
       "    }\n",
       "\n",
       "    .dataframe thead th {\n",
       "        text-align: right;\n",
       "    }\n",
       "</style>\n",
       "<table border=\"1\" class=\"dataframe\">\n",
       "  <thead>\n",
       "    <tr style=\"text-align: right;\">\n",
       "      <th></th>\n",
       "      <th>Grado</th>\n",
       "      <th>POBTOT_BC</th>\n",
       "      <th>PROM_HNV_BC</th>\n",
       "      <th>grados_cod</th>\n",
       "      <th>grados_cuad</th>\n",
       "    </tr>\n",
       "  </thead>\n",
       "  <tbody>\n",
       "    <tr>\n",
       "      <th>0</th>\n",
       "      <td>Primaria</td>\n",
       "      <td>3.173729</td>\n",
       "      <td>1.154342</td>\n",
       "      <td>-1</td>\n",
       "      <td>-10.766667</td>\n",
       "    </tr>\n",
       "    <tr>\n",
       "      <th>1</th>\n",
       "      <td>Primaria</td>\n",
       "      <td>5.278282</td>\n",
       "      <td>1.302897</td>\n",
       "      <td>-1</td>\n",
       "      <td>-10.766667</td>\n",
       "    </tr>\n",
       "    <tr>\n",
       "      <th>2</th>\n",
       "      <td>Primaria</td>\n",
       "      <td>3.173729</td>\n",
       "      <td>1.759130</td>\n",
       "      <td>-1</td>\n",
       "      <td>-10.766667</td>\n",
       "    </tr>\n",
       "    <tr>\n",
       "      <th>3</th>\n",
       "      <td>Primaria</td>\n",
       "      <td>5.221993</td>\n",
       "      <td>1.388040</td>\n",
       "      <td>-1</td>\n",
       "      <td>-10.766667</td>\n",
       "    </tr>\n",
       "    <tr>\n",
       "      <th>4</th>\n",
       "      <td>Primaria</td>\n",
       "      <td>4.219874</td>\n",
       "      <td>1.420656</td>\n",
       "      <td>-1</td>\n",
       "      <td>-10.766667</td>\n",
       "    </tr>\n",
       "  </tbody>\n",
       "</table>\n",
       "</div>"
      ],
      "text/plain": [
       "      Grado  POBTOT_BC  PROM_HNV_BC  grados_cod  grados_cuad\n",
       "0  Primaria   3.173729     1.154342          -1   -10.766667\n",
       "1  Primaria   5.278282     1.302897          -1   -10.766667\n",
       "2  Primaria   3.173729     1.759130          -1   -10.766667\n",
       "3  Primaria   5.221993     1.388040          -1   -10.766667\n",
       "4  Primaria   4.219874     1.420656          -1   -10.766667"
      ]
     },
     "execution_count": 53,
     "metadata": {},
     "output_type": "execute_result"
    }
   ],
   "source": [
    "df['grados_cuad'] = df['Grado'].map({categoria:y for categoria,y in zip(grados_ordenados,Y)})\n",
    "df.head()"
   ]
  },
  {
   "cell_type": "code",
   "execution_count": 54,
   "metadata": {},
   "outputs": [
    {
     "data": {
      "text/plain": [
       "0.14561352237368852"
      ]
     },
     "execution_count": 54,
     "metadata": {},
     "output_type": "execute_result"
    }
   ],
   "source": [
    "regresion_cuad = LinearRegression()\n",
    "regresion_cuad.fit(df[['POBTOT_BC', 'grados_cod', 'grados_cuad']],df['PROM_HNV_BC'])\n",
    "regresion_cuad.score(df[['POBTOT_BC', 'grados_cod', 'grados_cuad']],df['PROM_HNV_BC'])"
   ]
  },
  {
   "cell_type": "code",
   "execution_count": 55,
   "metadata": {},
   "outputs": [
    {
     "data": {
      "image/png": "[encoded data removed]",
      "text/plain": [
       "<Figure size 640x480 with 1 Axes>"
      ]
     },
     "metadata": {},
     "output_type": "display_data"
    }
   ],
   "source": [
    "fig = plt.figure()\n",
    "ax = fig.add_subplot(projection='3d')\n",
    "ax.scatter(df['grados_cod'].values,df['grados_cuad'].values,df['PROM_HNV_BC'].astype('float'))\n",
    "ax.scatter(df['grados_cod'].values,df['grados_cuad'].values,regresion_cuad.predict(df[['POBTOT_BC','grados_cod','grados_cuad']]),label='Regresión cuadrática')\n",
    "\n",
    "plt.grid()"
   ]
  },
  {
   "cell_type": "markdown",
   "metadata": {},
   "source": [
    "La correlación no mejoró significativamente"
   ]
  },
  {
   "cell_type": "markdown",
   "metadata": {
    "id": "dAF6mBpIJ78j"
   },
   "source": [
    "6. Finalmente, vuelva a codificar la variable `Grado` usando contraste polinómico cuadrático estrictamente creciente, esto es $X=\\{0,1,2,\\dots,n-1\\}$."
   ]
  },
  {
   "cell_type": "code",
   "execution_count": 56,
   "metadata": {
    "id": "fk9m-_9nKWXY"
   },
   "outputs": [
    {
     "data": {
      "text/plain": [
       "[-36.666666666666664,\n",
       " -32.666666666666664,\n",
       " -20.666666666666664,\n",
       " -0.6666666666666661,\n",
       " 27.333333333333336,\n",
       " 63.333333333333336]"
      ]
     },
     "execution_count": 56,
     "metadata": {},
     "output_type": "execute_result"
    }
   ],
   "source": [
    "a2 = 1\n",
    "a1 = 10\n",
    "a0 = -a2*np.sum([x**2 for x in X])/n\n",
    "Y = [a0+a1*x+a2*x**2 for x in X]\n",
    "Y"
   ]
  },
  {
   "cell_type": "markdown",
   "metadata": {
    "id": "6bdbuCYQLWkH"
   },
   "source": [
    "7. En la última regresión lineal, las variables independientes serán solo `POBTOT_BC` y la codificación cuadrática creciente. Grafique y mida la correlación, ¿Mejoró la correlación?, ¿Existe correlación entre estas variables?"
   ]
  },
  {
   "cell_type": "code",
   "execution_count": 57,
   "metadata": {},
   "outputs": [
    {
     "data": {
      "image/png": "[encoded data removed]",
      "text/plain": [
       "<Figure size 640x480 with 1 Axes>"
      ]
     },
     "metadata": {},
     "output_type": "display_data"
    }
   ],
   "source": [
    "plt.scatter(X,Y)\n",
    "plt.grid()"
   ]
  },
  {
   "cell_type": "code",
   "execution_count": 58,
   "metadata": {},
   "outputs": [
    {
     "data": {
      "text/html": [
       "<div>\n",
       "<style scoped>\n",
       "    .dataframe tbody tr th:only-of-type {\n",
       "        vertical-align: middle;\n",
       "    }\n",
       "\n",
       "    .dataframe tbody tr th {\n",
       "        vertical-align: top;\n",
       "    }\n",
       "\n",
       "    .dataframe thead th {\n",
       "        text-align: right;\n",
       "    }\n",
       "</style>\n",
       "<table border=\"1\" class=\"dataframe\">\n",
       "  <thead>\n",
       "    <tr style=\"text-align: right;\">\n",
       "      <th></th>\n",
       "      <th>Grado</th>\n",
       "      <th>POBTOT_BC</th>\n",
       "      <th>PROM_HNV_BC</th>\n",
       "      <th>grados_cod</th>\n",
       "      <th>grados_cuad</th>\n",
       "    </tr>\n",
       "  </thead>\n",
       "  <tbody>\n",
       "    <tr>\n",
       "      <th>0</th>\n",
       "      <td>Primaria</td>\n",
       "      <td>3.173729</td>\n",
       "      <td>1.154342</td>\n",
       "      <td>-1</td>\n",
       "      <td>-20.666667</td>\n",
       "    </tr>\n",
       "    <tr>\n",
       "      <th>1</th>\n",
       "      <td>Primaria</td>\n",
       "      <td>5.278282</td>\n",
       "      <td>1.302897</td>\n",
       "      <td>-1</td>\n",
       "      <td>-20.666667</td>\n",
       "    </tr>\n",
       "    <tr>\n",
       "      <th>2</th>\n",
       "      <td>Primaria</td>\n",
       "      <td>3.173729</td>\n",
       "      <td>1.759130</td>\n",
       "      <td>-1</td>\n",
       "      <td>-20.666667</td>\n",
       "    </tr>\n",
       "    <tr>\n",
       "      <th>3</th>\n",
       "      <td>Primaria</td>\n",
       "      <td>5.221993</td>\n",
       "      <td>1.388040</td>\n",
       "      <td>-1</td>\n",
       "      <td>-20.666667</td>\n",
       "    </tr>\n",
       "    <tr>\n",
       "      <th>4</th>\n",
       "      <td>Primaria</td>\n",
       "      <td>4.219874</td>\n",
       "      <td>1.420656</td>\n",
       "      <td>-1</td>\n",
       "      <td>-20.666667</td>\n",
       "    </tr>\n",
       "  </tbody>\n",
       "</table>\n",
       "</div>"
      ],
      "text/plain": [
       "      Grado  POBTOT_BC  PROM_HNV_BC  grados_cod  grados_cuad\n",
       "0  Primaria   3.173729     1.154342          -1   -20.666667\n",
       "1  Primaria   5.278282     1.302897          -1   -20.666667\n",
       "2  Primaria   3.173729     1.759130          -1   -20.666667\n",
       "3  Primaria   5.221993     1.388040          -1   -20.666667\n",
       "4  Primaria   4.219874     1.420656          -1   -20.666667"
      ]
     },
     "execution_count": 58,
     "metadata": {},
     "output_type": "execute_result"
    }
   ],
   "source": [
    "df['grados_cuad'] = df['Grado'].map({categoria:y for categoria,y in zip(grados_ordenados,Y)})\n",
    "df.head()"
   ]
  },
  {
   "cell_type": "code",
   "execution_count": 59,
   "metadata": {},
   "outputs": [
    {
     "data": {
      "text/plain": [
       "0.1453867434856102"
      ]
     },
     "execution_count": 59,
     "metadata": {},
     "output_type": "execute_result"
    }
   ],
   "source": [
    "regresion_lin = LinearRegression()\n",
    "regresion_lin.fit(df[['POBTOT_BC', 'grados_cuad']],df['PROM_HNV_BC'])\n",
    "regresion_lin.score(df[['POBTOT_BC', 'grados_cuad']],df['PROM_HNV_BC'])"
   ]
  },
  {
   "cell_type": "markdown",
   "metadata": {},
   "source": [
    "Sí mejoró la correlación, parece ser exponencial"
   ]
  }
 ],
 "metadata": {
  "colab": {
   "provenance": []
  },
  "kernelspec": {
   "display_name": "base",
   "language": "python",
   "name": "python3"
  },
  "language_info": {
   "codemirror_mode": {
    "name": "ipython",
    "version": 3
   },
   "file_extension": ".py",
   "mimetype": "text/x-python",
   "name": "python",
   "nbconvert_exporter": "python",
   "pygments_lexer": "ipython3",
   "version": "3.12.4"
  }
 },
 "nbformat": 4,
 "nbformat_minor": 4
}
